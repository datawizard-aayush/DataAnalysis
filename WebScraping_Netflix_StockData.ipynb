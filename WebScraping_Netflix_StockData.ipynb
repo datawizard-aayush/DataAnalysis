{
  "nbformat": 4,
  "nbformat_minor": 0,
  "metadata": {
    "colab": {
      "provenance": []
    },
    "kernelspec": {
      "name": "python3",
      "display_name": "Python 3"
    },
    "language_info": {
      "name": "python"
    }
  },
  "cells": [
    {
      "cell_type": "code",
      "execution_count": null,
      "metadata": {
        "colab": {
          "base_uri": "https://localhost:8080/",
          "height": 260
        },
        "id": "mXlf8rLQBuPq",
        "outputId": "5f79ec67-ff4f-4114-c138-adb0d11ac369"
      },
      "outputs": [
        {
          "output_type": "stream",
          "name": "stdout",
          "text": [
            "            Date    Open    High     Low   Close     Volume\n",
            "0   Jun 01, 2021  504.01  536.13  482.14  528.21   78560600\n",
            "1   May 01, 2021  512.65  518.95  478.54  502.81   66927600\n",
            "2   Apr 01, 2021  529.93  563.56  499.00  513.47  111573300\n",
            "3   Mar 01, 2021  545.57  556.99  492.85  521.66   90183900\n",
            "4   Feb 01, 2021  536.79  566.65  518.28  538.85   61902300\n",
            "..           ...     ...     ...     ...     ...        ...\n",
            "65  Jan 01, 2016  109.00  122.18   90.11   91.84  488193200\n",
            "66  Dec 01, 2015  124.47  133.27  113.85  114.38  319939200\n",
            "67  Nov 01, 2015  109.20  126.60  101.86  123.33  320321800\n",
            "68  Oct 01, 2015  102.91  115.83   96.26  108.38  446204400\n",
            "69  Sep 01, 2015  109.35  111.24   93.55  103.26  497401200\n",
            "\n",
            "[70 rows x 6 columns]\n"
          ]
        },
        {
          "output_type": "display_data",
          "data": {
            "text/plain": [
              "<IPython.core.display.Javascript object>"
            ],
            "application/javascript": [
              "\n",
              "    async function download(id, filename, size) {\n",
              "      if (!google.colab.kernel.accessAllowed) {\n",
              "        return;\n",
              "      }\n",
              "      const div = document.createElement('div');\n",
              "      const label = document.createElement('label');\n",
              "      label.textContent = `Downloading \"${filename}\": `;\n",
              "      div.appendChild(label);\n",
              "      const progress = document.createElement('progress');\n",
              "      progress.max = size;\n",
              "      div.appendChild(progress);\n",
              "      document.body.appendChild(div);\n",
              "\n",
              "      const buffers = [];\n",
              "      let downloaded = 0;\n",
              "\n",
              "      const channel = await google.colab.kernel.comms.open(id);\n",
              "      // Send a message to notify the kernel that we're ready.\n",
              "      channel.send({})\n",
              "\n",
              "      for await (const message of channel.messages) {\n",
              "        // Send a message to notify the kernel that we're ready.\n",
              "        channel.send({})\n",
              "        if (message.buffers) {\n",
              "          for (const buffer of message.buffers) {\n",
              "            buffers.push(buffer);\n",
              "            downloaded += buffer.byteLength;\n",
              "            progress.value = downloaded;\n",
              "          }\n",
              "        }\n",
              "      }\n",
              "      const blob = new Blob(buffers, {type: 'application/binary'});\n",
              "      const a = document.createElement('a');\n",
              "      a.href = window.URL.createObjectURL(blob);\n",
              "      a.download = filename;\n",
              "      div.appendChild(a);\n",
              "      a.click();\n",
              "      div.remove();\n",
              "    }\n",
              "  "
            ]
          },
          "metadata": {}
        },
        {
          "output_type": "display_data",
          "data": {
            "text/plain": [
              "<IPython.core.display.Javascript object>"
            ],
            "application/javascript": [
              "download(\"download_52113227-a1be-4326-bf29-238b66794d53\", \"new_netflix_stock_data.csv\", 3657)"
            ]
          },
          "metadata": {}
        }
      ],
      "source": [
        "import pandas as pd\n",
        "import requests as rs\n",
        "from bs4 import BeautifulSoup\n",
        "import warnings\n",
        "\n",
        "# Ignore all future warnings (to keep output clean)\n",
        "warnings.filterwarnings(\"ignore\", category=FutureWarning)\n",
        "\n",
        "# 1. Load the HTML page\n",
        "url = \"https://cf-courses-data.s3.us.cloud-object-storage.appdomain.cloud/IBMDeveloperSkillsNetwork-PY0220EN-SkillsNetwork/labs/project/netflix_data_webpage.html\"\n",
        "response = rs.get(url)\n",
        "html_data = response.text\n",
        "\n",
        "# 2. Parse the HTML content using BeautifulSoup\n",
        "soup = BeautifulSoup(html_data, 'html.parser')\n",
        "\n",
        "# 3. Create an empty DataFrame with defined columns\n",
        "netflix_data = pd.DataFrame(columns=[\"Date\", \"Open\", \"High\", \"Low\", \"Close\", \"Volume\"])\n",
        "\n",
        "# 4. Loop through table rows and extract data\n",
        "for row in soup.find(\"tbody\").find_all(\"tr\"):\n",
        "    cols = row.find_all(\"td\")\n",
        "    date = cols[0].text.strip()\n",
        "    open_price = cols[1].text.strip()\n",
        "    high = cols[2].text.strip()\n",
        "    low = cols[3].text.strip()\n",
        "    close = cols[4].text.strip()\n",
        "    volume = cols[6].text.strip().replace(\",\", \"\")  # Fix: remove commas from volume\n",
        "\n",
        "    # Create a one-row DataFrame and append to main DataFrame\n",
        "    one_row = pd.DataFrame({\n",
        "        \"Date\": [date],\n",
        "        \"Open\": [open_price],\n",
        "        \"High\": [high],\n",
        "        \"Low\": [low],\n",
        "        \"Close\": [close],\n",
        "        \"Volume\": [volume]\n",
        "    })\n",
        "\n",
        "    netflix_data = pd.concat([netflix_data, one_row], ignore_index=True)\n",
        "\n",
        "# 5. Convert string columns to numeric\n",
        "numeric_cols = [\"Open\", \"High\", \"Low\", \"Close\", \"Volume\"]\n",
        "netflix_data[numeric_cols] = netflix_data[numeric_cols].apply(pd.to_numeric, errors='coerce')\n",
        "\n",
        "# 6. Final DataFrame\n",
        "print(netflix_data)\n",
        "\n",
        "# 7. Save to CSV and download\n",
        "csv_filename = \"new_netflix_stock_data.csv\"\n",
        "netflix_data.to_csv(csv_filename, index=False)\n",
        "\n",
        "from google.colab import files\n",
        "files.download(csv_filename)\n",
        "\n"
      ]
    }
  ]
}